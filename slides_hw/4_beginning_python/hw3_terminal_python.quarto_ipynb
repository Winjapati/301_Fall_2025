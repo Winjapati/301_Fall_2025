{
  "cells": [
    {
      "cell_type": "markdown",
      "metadata": {},
      "source": [
        "---\n",
        "title: \"Homework 3: the Terminal & Beginning Python\"\n",
        "author: \"Dr. Andrew M. Byrd\"\n",
        "format: pdf\n",
        "fontsize: 12pt\n",
        "---\n",
        "\n",
        "\n",
        "# Part 1: Terminal (Setup)\n",
        "\n",
        "1. Open your Terminal in RStudio.  \n",
        "2. Navigate (`cd`) into your course repo folder (e.g., `~/git_repos/301_Fall_2025`).  \n",
        "3. Make a new folder called `hw3_files`:\n",
        "\n",
        "``` bash\n",
        "mkdir hw3_files\n",
        "```\n",
        "\n",
        "4. Download the file **shakespeare.txt** from Project Gutenberg into that folder (use `curl`):\n",
        "\n",
        "``` bash \n",
        "curl -o shakespeare.txt https://www.gutenberg.org/cache/epub/100/pg100.txt\n",
        "```\n",
        "\n",
        "5. Confirm the file is in your folder with:\n",
        "\n",
        "``` bash\n",
        "ls hw3_files\n",
        "```\n",
        "\n",
        "---\n",
        "\n",
        "# Part 2: Python (Lists and Dictionaries)\n",
        "\n",
        "Create a new Quarto doc called **hw3.qmd** with a Python code chunk.  \n",
        "\n",
        "## Load the File\n"
      ],
      "id": "f9072ec2"
    },
    {
      "cell_type": "code",
      "metadata": {},
      "source": [
        "with open(\"hw3_files/shakespeare.txt\", \"r\", encoding=\"utf-8\") as f:\n",
        "    text = f.read()"
      ],
      "id": "46d10ccb",
      "execution_count": null,
      "outputs": []
    },
    {
      "cell_type": "markdown",
      "metadata": {},
      "source": [
        "## Make a List\n",
        "\n",
        "- Take the first 10 *unique* words from the file (in the order they appear) and store them in a list called `words`.  \n",
        "- Print the list.  \n",
        "- Print the 3rd and 7th items in the list.  \n",
        "\n",
        "Example:\n"
      ],
      "id": "39191eb0"
    },
    {
      "cell_type": "code",
      "metadata": {},
      "source": [
        "words = [\"The\", \"Project\", \"Gutenberg\", \"EBook\", \"of\", \"William\", \"Shakespeare\", \"Complete\", \"by\", \"Shakespeare\"]\n",
        "print(words)\n",
        "print(words[2])   # 3rd item\n",
        "print(words[6])   # 7th item"
      ],
      "id": "995df4f0",
      "execution_count": null,
      "outputs": []
    },
    {
      "cell_type": "markdown",
      "metadata": {},
      "source": [
        "## Make a Dictionary\n",
        "\n",
        "- Pick **3 of the words** from your `words` list.  \n",
        "- Use `.count()` to see how many times each appears in the text.  \n",
        "- Create a dictionary called `word_counts` that pairs each chosen word with its number.  \n",
        "\n",
        "Example:\n"
      ],
      "id": "485a4db1"
    },
    {
      "cell_type": "code",
      "metadata": {},
      "source": [
        "word_counts = {\n",
        "    \"The\": text.count(\"The\"),\n",
        "    \"Project\": text.count(\"Project\"),\n",
        "    \"Shakespeare\": text.count(\"Shakespeare\")\n",
        "}\n",
        "print(word_counts)"
      ],
      "id": "00b37586",
      "execution_count": null,
      "outputs": []
    },
    {
      "cell_type": "markdown",
      "metadata": {},
      "source": [
        "---\n",
        "\n",
        "# Part 3: Reflection\n",
        "\n",
        "At the bottom of your **hw3.qmd**, write a short (3–5 sentence) reflection:\n",
        "\n",
        "- What was easiest about this assignment?  \n",
        "- What was hardest?  \n",
        "- How might a linguist use lists and dictionaries for language data?  \n",
        "\n",
        "---\n",
        "\n",
        "# Submission\n",
        "\n",
        "- Upload **hw3.qmd** and your **hw3_files/shakespeare.txt** file to your GitHub repo.  \n",
        "- Post the repo link to Canvas.  "
      ],
      "id": "fd614a85"
    }
  ],
  "metadata": {
    "kernelspec": {
      "name": "python3",
      "language": "python",
      "display_name": "Python 3 (ipykernel)",
      "path": "C:\\Users\\andre\\AppData\\Local\\Programs\\Python\\Python313\\share\\jupyter\\kernels\\python3"
    }
  },
  "nbformat": 4,
  "nbformat_minor": 5
}