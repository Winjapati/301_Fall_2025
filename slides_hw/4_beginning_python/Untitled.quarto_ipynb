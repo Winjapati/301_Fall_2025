{
  "cells": [
    {
      "cell_type": "markdown",
      "metadata": {},
      "source": [
        "---\n",
        "title: \"Untitled\"\n",
        "format: html\n",
        "---"
      ],
      "id": "65d7dad4"
    },
    {
      "cell_type": "code",
      "metadata": {},
      "source": [
        "word = input(\"Enter a word, any word: \")\n",
        "\n",
        "# Step 1: check if word starts with a voiceless stop\n",
        "starts_p = word[0] == \"p\"\n",
        "starts_t = word[0] == \"t\"\n",
        "starts_k = word[0] == \"k\"\n",
        "\n",
        "# Step 2: decide aspiration (simplified: only if it’s the first sound)\n",
        "aspirated = starts_p or starts_t or starts_k\n",
        "\n",
        "print(\"Word:\", word)\n",
        "print(\"Aspirated?\", aspirated)"
      ],
      "id": "0e0296d1",
      "execution_count": null,
      "outputs": []
    }
  ],
  "metadata": {
    "kernelspec": {
      "name": "python3",
      "language": "python",
      "display_name": "Python 3 (ipykernel)",
      "path": "C:\\Users\\andre\\AppData\\Local\\Programs\\Python\\Python313\\share\\jupyter\\kernels\\python3"
    }
  },
  "nbformat": 4,
  "nbformat_minor": 5
}